{
  "nbformat": 4,
  "nbformat_minor": 0,
  "metadata": {
    "colab": {
      "provenance": [],
      "authorship_tag": "ABX9TyNrsy7YNjp+nl/XqyzReeTH",
      "include_colab_link": true
    },
    "kernelspec": {
      "name": "python3",
      "display_name": "Python 3"
    },
    "language_info": {
      "name": "python"
    }
  },
  "cells": [
    {
      "cell_type": "markdown",
      "metadata": {
        "id": "view-in-github",
        "colab_type": "text"
      },
      "source": [
        "<a href=\"https://colab.research.google.com/github/Sam9875/whiteboard/blob/main/Another_copy_of_Untitled3.ipynb\" target=\"_parent\"><img src=\"https://colab.research.google.com/assets/colab-badge.svg\" alt=\"Open In Colab\"/></a>"
      ]
    },
    {
      "cell_type": "code",
      "source": [
        "!pip install pyspark\n",
        "from pyspark.sql import SparkSession\n",
        "from itertools import combinations\n",
        "import os"
      ],
      "metadata": {
        "colab": {
          "base_uri": "https://localhost:8080/"
        },
        "id": "UdldYJJ-paCf",
        "outputId": "d24a4b84-2b23-4c0e-9915-0f1a118b48be"
      },
      "execution_count": null,
      "outputs": [
        {
          "output_type": "stream",
          "name": "stdout",
          "text": [
            "Requirement already satisfied: pyspark in /usr/local/lib/python3.11/dist-packages (3.5.5)\n",
            "Requirement already satisfied: py4j==0.10.9.7 in /usr/local/lib/python3.11/dist-packages (from pyspark) (0.10.9.7)\n"
          ]
        }
      ]
    },
    {
      "cell_type": "code",
      "source": [
        "spark = SparkSession.builder \\\n",
        "    .master(\"local[*]\") \\\n",
        "    .appName(\"AmazonFrequentProductPairs\") \\\n",
        "    .getOrCreate()\n",
        "sc = spark.sparkContext"
      ],
      "metadata": {
        "id": "eG62lsSlpbA0"
      },
      "execution_count": null,
      "outputs": []
    },
    {
      "cell_type": "code",
      "source": [
        "# Shell 3: Set file paths and clean previous output\n",
        "input_path = \"/content/ReviewsSample.csv\"\n",
        "output_path = \"/content/Lab6_output\"\n",
        "\n",
        "if os.path.exists(output_path):\n",
        "    os.system(f\"rm -rf {output_path}\")"
      ],
      "metadata": {
        "id": "m60d-JZHprfb"
      },
      "execution_count": null,
      "outputs": []
    },
    {
      "cell_type": "code",
      "source": [
        "# Shell 4: Read and preprocess the data\n",
        "data = sc.textFile(input_path)\n",
        "header = data.first()\n",
        "reviews = data.filter(lambda line: line != header) \\\n",
        "             .map(lambda line: line.split(\",\")) \\\n",
        "             .map(lambda fields: (fields[2].strip(), fields[1].strip()))  # (UserId, ProductId)\n"
      ],
      "metadata": {
        "id": "A7SmX17ipw-O"
      },
      "execution_count": null,
      "outputs": []
    },
    {
      "cell_type": "code",
      "source": [
        "user_products = reviews.groupByKey() \\\n",
        "                      .mapValues(lambda products: list(set(products))) \\\n",
        "                      .filter(lambda x: len(x[1]) > 1)  # Only users with ≥2 products"
      ],
      "metadata": {
        "id": "uohQdtnCp7K9"
      },
      "execution_count": null,
      "outputs": []
    },
    {
      "cell_type": "code",
      "source": [
        "product_pairs = user_products.flatMap(lambda user_data: list(combinations(user_data[1], 2))) \\\n",
        "                            .map(lambda pair: (tuple(sorted(pair)), 1)) \\\n",
        "                            .reduceByKey(lambda a, b: a + b) \\\n",
        "                            .filter(lambda x: x[1] > 1)  # Only pairs with frequency > 1"
      ],
      "metadata": {
        "id": "QLd8wYx5qaAV"
      },
      "execution_count": null,
      "outputs": []
    },
    {
      "cell_type": "code",
      "source": [
        "sorted_pairs = product_pairs.map(lambda x: (x[1], x[0])) \\\n",
        "                           .sortByKey(ascending=False) \\\n",
        "                           .map(lambda x: (x[1][0], x[1][1], x[0]))\n",
        "\n",
        "sorted_pairs.saveAsTextFile(output_path)"
      ],
      "metadata": {
        "id": "WvV9R-pdqd3u"
      },
      "execution_count": null,
      "outputs": []
    },
    {
      "cell_type": "code",
      "source": [
        "# Shell 8: Show sample results\n",
        "print(\"Top 10 frequently reviewed product pairs:\")\n",
        "for pair in sorted_pairs.take(10):\n",
        "    print(f\"{pair[0]} | {pair[1]} | Frequency: {pair[2]}\")\n"
      ],
      "metadata": {
        "colab": {
          "base_uri": "https://localhost:8080/"
        },
        "id": "BXk9zz9yqhh2",
        "outputId": "7d8c6d22-e8a8-49cc-865e-645569070d33"
      },
      "execution_count": null,
      "outputs": [
        {
          "output_type": "stream",
          "name": "stdout",
          "text": [
            "Top 10 frequently reviewed product pairs:\n",
            "B1 | B3 | Frequency: 3\n",
            "B3 | B5 | Frequency: 3\n",
            "B1 | B5 | Frequency: 3\n"
          ]
        }
      ]
    }
  ]
}